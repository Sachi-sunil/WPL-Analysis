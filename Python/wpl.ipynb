{
 "cells": [
  {
   "cell_type": "markdown",
   "metadata": {},
   "source": [
    "Loading Datasets"
   ]
  },
  {
   "cell_type": "code",
   "execution_count": 6,
   "metadata": {},
   "outputs": [],
   "source": [
    "import pandas as pd;\n",
    "deliveries_2023=pd.read_csv('../Dataset/wpl_2023_deliveries.csv')\n",
    "deliveries_2024=pd.read_csv('../Dataset/wpl_2024_deliveries.csv')\n",
    "deliveries_2025=pd.read_csv('../Dataset/wpl_2025_deliveries.csv')"
   ]
  },
  {
   "cell_type": "code",
   "execution_count": 8,
   "metadata": {},
   "outputs": [
    {
     "name": "stdout",
     "output_type": "stream",
     "text": [
      "   match_id  season  match_no          date                      venue  \\\n",
      "0    202310    2023        10  Mar 12, 2023  Brabourne Stadium, Mumbai   \n",
      "1    202310    2023        10  Mar 12, 2023  Brabourne Stadium, Mumbai   \n",
      "2    202310    2023        10  Mar 12, 2023  Brabourne Stadium, Mumbai   \n",
      "3    202310    2023        10  Mar 12, 2023  Brabourne Stadium, Mumbai   \n",
      "4    202310    2023        10  Mar 12, 2023  Brabourne Stadium, Mumbai   \n",
      "\n",
      "  batting_team bowling_team  innings  over        striker            bowler  \\\n",
      "0          UPW          MIW        1   0.1          Healy  Nat Sciver-Brunt   \n",
      "1          UPW          MIW        1   0.2          Healy  Nat Sciver-Brunt   \n",
      "2          UPW          MIW        1   0.3  Devika Vaidya  Nat Sciver-Brunt   \n",
      "3          UPW          MIW        1   0.4  Devika Vaidya  Nat Sciver-Brunt   \n",
      "4          UPW          MIW        1   0.5          Healy  Nat Sciver-Brunt   \n",
      "\n",
      "   runs_of_bat  extras  wide  legbyes  byes  noballs wicket_type  \\\n",
      "0            0       0     0        0     0        0         NaN   \n",
      "1            1       0     0        0     0        0         NaN   \n",
      "2            0       0     0        0     0        0         NaN   \n",
      "3            1       0     0        0     0        0         NaN   \n",
      "4            0       0     0        0     0        0         NaN   \n",
      "\n",
      "  player_dismissed fielder  \n",
      "0              NaN     NaN  \n",
      "1              NaN     NaN  \n",
      "2              NaN     NaN  \n",
      "3              NaN     NaN  \n",
      "4              NaN     NaN  \n"
     ]
    }
   ],
   "source": [
    "print(deliveries_2023.head())\n",
    "#print(deliveries_2024.head())\n",
    "#print(deliveries_2025.head())"
   ]
  },
  {
   "cell_type": "code",
   "execution_count": 9,
   "metadata": {},
   "outputs": [
    {
     "name": "stdout",
     "output_type": "stream",
     "text": [
      "<class 'pandas.core.frame.DataFrame'>\n",
      "RangeIndex: 4999 entries, 0 to 4998\n",
      "Data columns (total 20 columns):\n",
      " #   Column            Non-Null Count  Dtype  \n",
      "---  ------            --------------  -----  \n",
      " 0   match_id          4999 non-null   int64  \n",
      " 1   season            4999 non-null   int64  \n",
      " 2   match_no          4999 non-null   int64  \n",
      " 3   date              4999 non-null   object \n",
      " 4   venue             4999 non-null   object \n",
      " 5   batting_team      4999 non-null   object \n",
      " 6   bowling_team      4999 non-null   object \n",
      " 7   innings           4999 non-null   int64  \n",
      " 8   over              4999 non-null   float64\n",
      " 9   striker           4999 non-null   object \n",
      " 10  bowler            4999 non-null   object \n",
      " 11  runs_of_bat       4999 non-null   int64  \n",
      " 12  extras            4999 non-null   int64  \n",
      " 13  wide              4999 non-null   int64  \n",
      " 14  legbyes           4999 non-null   int64  \n",
      " 15  byes              4999 non-null   int64  \n",
      " 16  noballs           4999 non-null   int64  \n",
      " 17  wicket_type       259 non-null    object \n",
      " 18  player_dismissed  259 non-null    object \n",
      " 19  fielder           184 non-null    object \n",
      "dtypes: float64(1), int64(10), object(9)\n",
      "memory usage: 781.2+ KB\n",
      "None\n"
     ]
    }
   ],
   "source": [
    "print(deliveries_2023.info())"
   ]
  },
  {
   "cell_type": "code",
   "execution_count": 10,
   "metadata": {},
   "outputs": [
    {
     "name": "stdout",
     "output_type": "stream",
     "text": [
      "            match_id  season     match_no      innings         over  \\\n",
      "count    4999.000000  4999.0  4999.000000  4999.000000  4999.000000   \n",
      "mean   202311.527706  2023.0    11.527706     1.464893     9.272174   \n",
      "std         6.388733     0.0     6.388733     0.498816     5.597963   \n",
      "min    202301.000000  2023.0     1.000000     1.000000     0.100000   \n",
      "25%    202306.000000  2023.0     6.000000     1.000000     4.400000   \n",
      "50%    202312.000000  2023.0    12.000000     1.000000     9.200000   \n",
      "75%    202317.000000  2023.0    17.000000     2.000000    14.100000   \n",
      "max    202322.000000  2023.0    22.000000     2.000000    19.600000   \n",
      "\n",
      "       runs_of_bat       extras         wide      legbyes         byes  \\\n",
      "count  4999.000000  4999.000000  4999.000000  4999.000000  4999.000000   \n",
      "mean      1.250650     0.057812     0.025805     0.007201     0.004201   \n",
      "std       1.624821     0.349439     0.158569     0.084564     0.064684   \n",
      "min       0.000000     0.000000     0.000000     0.000000     0.000000   \n",
      "25%       0.000000     0.000000     0.000000     0.000000     0.000000   \n",
      "50%       1.000000     0.000000     0.000000     0.000000     0.000000   \n",
      "75%       1.000000     0.000000     0.000000     0.000000     0.000000   \n",
      "max       6.000000     5.000000     1.000000     1.000000     1.000000   \n",
      "\n",
      "           noballs  \n",
      "count  4999.000000  \n",
      "mean      0.002801  \n",
      "std       0.052851  \n",
      "min       0.000000  \n",
      "25%       0.000000  \n",
      "50%       0.000000  \n",
      "75%       0.000000  \n",
      "max       1.000000  \n"
     ]
    }
   ],
   "source": [
    "print(deliveries_2023.describe())"
   ]
  },
  {
   "cell_type": "code",
   "execution_count": 11,
   "metadata": {},
   "outputs": [
    {
     "name": "stdout",
     "output_type": "stream",
     "text": [
      "match_id               0\n",
      "season                 0\n",
      "match_no               0\n",
      "date                   0\n",
      "venue                  0\n",
      "batting_team           0\n",
      "bowling_team           0\n",
      "innings                0\n",
      "over                   0\n",
      "striker                0\n",
      "bowler                 0\n",
      "runs_of_bat            0\n",
      "extras                 0\n",
      "wide                   0\n",
      "legbyes                0\n",
      "byes                   0\n",
      "noballs                0\n",
      "wicket_type         4740\n",
      "player_dismissed    4740\n",
      "fielder             4815\n",
      "dtype: int64\n"
     ]
    }
   ],
   "source": [
    "print(deliveries_2023.isnull().sum())  "
   ]
  },
  {
   "cell_type": "code",
   "execution_count": 12,
   "metadata": {},
   "outputs": [],
   "source": [
    "all_deliveries = pd.concat([deliveries_2023, deliveries_2024, deliveries_2025], ignore_index=True)"
   ]
  },
  {
   "cell_type": "code",
   "execution_count": null,
   "metadata": {},
   "outputs": [
    {
     "name": "stdout",
     "output_type": "stream",
     "text": [
      "<class 'pandas.core.frame.DataFrame'>\n",
      "RangeIndex: 15386 entries, 0 to 15385\n",
      "Data columns (total 21 columns):\n",
      " #   Column            Non-Null Count  Dtype  \n",
      "---  ------            --------------  -----  \n",
      " 0   match_id          15386 non-null  int64  \n",
      " 1   season            15386 non-null  int64  \n",
      " 2   match_no          15386 non-null  int64  \n",
      " 3   date              15386 non-null  object \n",
      " 4   venue             15386 non-null  object \n",
      " 5   batting_team      15386 non-null  object \n",
      " 6   bowling_team      15386 non-null  object \n",
      " 7   innings           15386 non-null  int64  \n",
      " 8   over              15386 non-null  float64\n",
      " 9   striker           15386 non-null  object \n",
      " 10  bowler            15386 non-null  object \n",
      " 11  runs_of_bat       15386 non-null  int64  \n",
      " 12  extras            15386 non-null  int64  \n",
      " 13  wide              15386 non-null  int64  \n",
      " 14  legbyes           15386 non-null  int64  \n",
      " 15  byes              15386 non-null  int64  \n",
      " 16  noballs           15386 non-null  int64  \n",
      " 17  wicket_type       813 non-null    object \n",
      " 18  player_dismissed  813 non-null    object \n",
      " 19  fielder           580 non-null    object \n",
      " 20  phase             5210 non-null   object \n",
      "dtypes: float64(1), int64(10), object(10)\n",
      "memory usage: 2.5+ MB\n",
      "None\n",
      "   match_id  season  match_no          date                      venue  \\\n",
      "0    202310    2023        10  Mar 12, 2023  Brabourne Stadium, Mumbai   \n",
      "1    202310    2023        10  Mar 12, 2023  Brabourne Stadium, Mumbai   \n",
      "2    202310    2023        10  Mar 12, 2023  Brabourne Stadium, Mumbai   \n",
      "3    202310    2023        10  Mar 12, 2023  Brabourne Stadium, Mumbai   \n",
      "4    202310    2023        10  Mar 12, 2023  Brabourne Stadium, Mumbai   \n",
      "\n",
      "  batting_team bowling_team  innings  over        striker  ... runs_of_bat  \\\n",
      "0          UPW          MIW        1   0.1          Healy  ...           0   \n",
      "1          UPW          MIW        1   0.2          Healy  ...           1   \n",
      "2          UPW          MIW        1   0.3  Devika Vaidya  ...           0   \n",
      "3          UPW          MIW        1   0.4  Devika Vaidya  ...           1   \n",
      "4          UPW          MIW        1   0.5          Healy  ...           0   \n",
      "\n",
      "   extras  wide  legbyes  byes  noballs  wicket_type player_dismissed fielder  \\\n",
      "0       0     0        0     0        0          NaN              NaN     NaN   \n",
      "1       0     0        0     0        0          NaN              NaN     NaN   \n",
      "2       0     0        0     0        0          NaN              NaN     NaN   \n",
      "3       0     0        0     0        0          NaN              NaN     NaN   \n",
      "4       0     0        0     0        0          NaN              NaN     NaN   \n",
      "\n",
      "  phase  \n",
      "0   NaN  \n",
      "1   NaN  \n",
      "2   NaN  \n",
      "3   NaN  \n",
      "4   NaN  \n",
      "\n",
      "[5 rows x 21 columns]\n"
     ]
    }
   ],
   "source": [
    "print(all_deliveries.info())"
   ]
  },
  {
   "cell_type": "code",
   "execution_count": 15,
   "metadata": {},
   "outputs": [
    {
     "name": "stdout",
     "output_type": "stream",
     "text": [
      "       match_id  season  match_no          date                      venue  \\\n",
      "15381    202522    2025        22  Mar 15, 2025  Brabourne Stadium, Mumbai   \n",
      "15382    202522    2025        22  Mar 15, 2025  Brabourne Stadium, Mumbai   \n",
      "15383    202522    2025        22  Mar 15, 2025  Brabourne Stadium, Mumbai   \n",
      "15384    202522    2025        22  Mar 15, 2025  Brabourne Stadium, Mumbai   \n",
      "15385    202522    2025        22  Mar 15, 2025  Brabourne Stadium, Mumbai   \n",
      "\n",
      "      batting_team bowling_team  innings  over               striker  ...  \\\n",
      "15381          DCW          MIW        2  19.2  Nallapureddy Charani  ...   \n",
      "15382          DCW          MIW        2  19.3           Niki Prasad  ...   \n",
      "15383          DCW          MIW        2  19.4           Niki Prasad  ...   \n",
      "15384          DCW          MIW        2  19.5  Nallapureddy Charani  ...   \n",
      "15385          DCW          MIW        2  19.6           Niki Prasad  ...   \n",
      "\n",
      "      runs_of_bat  extras  wide  legbyes  byes  noballs  wicket_type  \\\n",
      "15381           1       0     0        0     0        0          NaN   \n",
      "15382           0       0     0        0     0        0          NaN   \n",
      "15383           1       0     0        0     0        0          NaN   \n",
      "15384           1       0     0        0     0        0          NaN   \n",
      "15385           1       0     0        0     0        0          NaN   \n",
      "\n",
      "      player_dismissed fielder  phase  \n",
      "15381              NaN     NaN  Final  \n",
      "15382              NaN     NaN  Final  \n",
      "15383              NaN     NaN  Final  \n",
      "15384              NaN     NaN  Final  \n",
      "15385              NaN     NaN  Final  \n",
      "\n",
      "[5 rows x 21 columns]\n"
     ]
    }
   ],
   "source": [
    "print(all_deliveries.tail())"
   ]
  },
  {
   "cell_type": "code",
   "execution_count": 16,
   "metadata": {},
   "outputs": [
    {
     "name": "stdout",
     "output_type": "stream",
     "text": [
      "Total rows in merged dataset: 15386\n",
      "Total unique seasons in data: [2023 2024 2025]\n"
     ]
    }
   ],
   "source": [
    "print(f\"Total rows in merged dataset: {all_deliveries.shape[0]}\")\n",
    "print(f\"Total unique seasons in data: {all_deliveries['season'].unique()}\")"
   ]
  },
  {
   "cell_type": "code",
   "execution_count": 18,
   "metadata": {},
   "outputs": [
    {
     "name": "stdout",
     "output_type": "stream",
     "text": [
      "wicket_type         14573\n",
      "player_dismissed    14573\n",
      "fielder             14806\n",
      "phase               10176\n",
      "dtype: int64\n"
     ]
    }
   ],
   "source": [
    "missing_values = all_deliveries.isnull().sum()\n",
    "print(missing_values[missing_values > 0])"
   ]
  },
  {
   "cell_type": "markdown",
   "metadata": {},
   "source": [
    "HANDLE MISSING VALUES :"
   ]
  },
  {
   "cell_type": "code",
   "execution_count": 19,
   "metadata": {},
   "outputs": [
    {
     "name": "stdout",
     "output_type": "stream",
     "text": [
      "0          NaN\n",
      "1          NaN\n",
      "2          NaN\n",
      "3          NaN\n",
      "4          NaN\n",
      "         ...  \n",
      "15381    Final\n",
      "15382    Final\n",
      "15383    Final\n",
      "15384    Final\n",
      "15385    Final\n",
      "Name: phase, Length: 15386, dtype: object\n"
     ]
    }
   ],
   "source": [
    "print(all_deliveries[\"phase\"])\n"
   ]
  },
  {
   "cell_type": "code",
   "execution_count": 21,
   "metadata": {},
   "outputs": [],
   "source": [
    "all_deliveries[\"wicket_type\"].fillna(\"Not Out\", inplace=True)\n",
    "all_deliveries[\"player_dismissed\"].fillna(\"None\", inplace=True)\n",
    "all_deliveries[\"fielder\"].fillna(\"None\", inplace=True)\n",
    "all_deliveries[\"phase\"].fillna(\"League\",inplace=True)"
   ]
  },
  {
   "cell_type": "code",
   "execution_count": 24,
   "metadata": {},
   "outputs": [
    {
     "name": "stderr",
     "output_type": "stream",
     "text": [
      "C:\\Users\\SACHIN\\AppData\\Local\\Temp\\ipykernel_6684\\363044273.py:1: FutureWarning: A value is trying to be set on a copy of a DataFrame or Series through chained assignment using an inplace method.\n",
      "The behavior will change in pandas 3.0. This inplace method will never work because the intermediate object on which we are setting values always behaves as a copy.\n",
      "\n",
      "For example, when doing 'df[col].method(value, inplace=True)', try using 'df.method({col: value}, inplace=True)' or df[col] = df[col].method(value) instead, to perform the operation inplace on the original object.\n",
      "\n",
      "\n",
      "  all_deliveries[\"extras\"].fillna(0, inplace=True)\n"
     ]
    }
   ],
   "source": [
    "all_deliveries[\"extras\"].fillna(0, inplace=True)"
   ]
  },
  {
   "cell_type": "code",
   "execution_count": 25,
   "metadata": {},
   "outputs": [
    {
     "name": "stdout",
     "output_type": "stream",
     "text": [
      "Total duplicate rows: 11\n"
     ]
    }
   ],
   "source": [
    "duplicates = all_deliveries.duplicated().sum()\n",
    "print(f\"Total duplicate rows: {duplicates}\")"
   ]
  },
  {
   "cell_type": "code",
   "execution_count": 26,
   "metadata": {},
   "outputs": [],
   "source": [
    "all_deliveries.drop_duplicates(inplace=True)"
   ]
  },
  {
   "cell_type": "code",
   "execution_count": 27,
   "metadata": {},
   "outputs": [],
   "source": [
    "all_deliveries[\"date\"] = pd.to_datetime(all_deliveries[\"date\"])"
   ]
  },
  {
   "cell_type": "code",
   "execution_count": 28,
   "metadata": {},
   "outputs": [],
   "source": [
    "num_cols = [\"innings\", \"over\", \"runs_of_bat\", \"extras\", \"wide\", \"legbyes\", \"byes\", \"noballs\"]\n",
    "all_deliveries[num_cols] = all_deliveries[num_cols].astype(int)"
   ]
  },
  {
   "cell_type": "code",
   "execution_count": 29,
   "metadata": {},
   "outputs": [
    {
     "name": "stdout",
     "output_type": "stream",
     "text": [
      "<class 'pandas.core.frame.DataFrame'>\n",
      "Index: 15375 entries, 0 to 15385\n",
      "Data columns (total 21 columns):\n",
      " #   Column            Non-Null Count  Dtype         \n",
      "---  ------            --------------  -----         \n",
      " 0   match_id          15375 non-null  int64         \n",
      " 1   season            15375 non-null  int64         \n",
      " 2   match_no          15375 non-null  int64         \n",
      " 3   date              15375 non-null  datetime64[ns]\n",
      " 4   venue             15375 non-null  object        \n",
      " 5   batting_team      15375 non-null  object        \n",
      " 6   bowling_team      15375 non-null  object        \n",
      " 7   innings           15375 non-null  int64         \n",
      " 8   over              15375 non-null  int64         \n",
      " 9   striker           15375 non-null  object        \n",
      " 10  bowler            15375 non-null  object        \n",
      " 11  runs_of_bat       15375 non-null  int64         \n",
      " 12  extras            15375 non-null  int64         \n",
      " 13  wide              15375 non-null  int64         \n",
      " 14  legbyes           15375 non-null  int64         \n",
      " 15  byes              15375 non-null  int64         \n",
      " 16  noballs           15375 non-null  int64         \n",
      " 17  wicket_type       15375 non-null  object        \n",
      " 18  player_dismissed  15375 non-null  object        \n",
      " 19  fielder           15375 non-null  object        \n",
      " 20  phase             15375 non-null  object        \n",
      "dtypes: datetime64[ns](1), int64(11), object(9)\n",
      "memory usage: 2.6+ MB\n"
     ]
    }
   ],
   "source": [
    "all_deliveries.info()"
   ]
  },
  {
   "cell_type": "code",
   "execution_count": 30,
   "metadata": {},
   "outputs": [
    {
     "data": {
      "text/html": [
       "<div>\n",
       "<style scoped>\n",
       "    .dataframe tbody tr th:only-of-type {\n",
       "        vertical-align: middle;\n",
       "    }\n",
       "\n",
       "    .dataframe tbody tr th {\n",
       "        vertical-align: top;\n",
       "    }\n",
       "\n",
       "    .dataframe thead th {\n",
       "        text-align: right;\n",
       "    }\n",
       "</style>\n",
       "<table border=\"1\" class=\"dataframe\">\n",
       "  <thead>\n",
       "    <tr style=\"text-align: right;\">\n",
       "      <th></th>\n",
       "      <th>match_id</th>\n",
       "      <th>season</th>\n",
       "      <th>match_no</th>\n",
       "      <th>date</th>\n",
       "      <th>venue</th>\n",
       "      <th>batting_team</th>\n",
       "      <th>bowling_team</th>\n",
       "      <th>innings</th>\n",
       "      <th>over</th>\n",
       "      <th>striker</th>\n",
       "      <th>...</th>\n",
       "      <th>runs_of_bat</th>\n",
       "      <th>extras</th>\n",
       "      <th>wide</th>\n",
       "      <th>legbyes</th>\n",
       "      <th>byes</th>\n",
       "      <th>noballs</th>\n",
       "      <th>wicket_type</th>\n",
       "      <th>player_dismissed</th>\n",
       "      <th>fielder</th>\n",
       "      <th>phase</th>\n",
       "    </tr>\n",
       "  </thead>\n",
       "  <tbody>\n",
       "    <tr>\n",
       "      <th>0</th>\n",
       "      <td>202310</td>\n",
       "      <td>2023</td>\n",
       "      <td>10</td>\n",
       "      <td>2023-03-12</td>\n",
       "      <td>Brabourne Stadium, Mumbai</td>\n",
       "      <td>UPW</td>\n",
       "      <td>MIW</td>\n",
       "      <td>1</td>\n",
       "      <td>0</td>\n",
       "      <td>Healy</td>\n",
       "      <td>...</td>\n",
       "      <td>0</td>\n",
       "      <td>0</td>\n",
       "      <td>0</td>\n",
       "      <td>0</td>\n",
       "      <td>0</td>\n",
       "      <td>0</td>\n",
       "      <td>Not Out</td>\n",
       "      <td>None</td>\n",
       "      <td>None</td>\n",
       "      <td>League</td>\n",
       "    </tr>\n",
       "    <tr>\n",
       "      <th>1</th>\n",
       "      <td>202310</td>\n",
       "      <td>2023</td>\n",
       "      <td>10</td>\n",
       "      <td>2023-03-12</td>\n",
       "      <td>Brabourne Stadium, Mumbai</td>\n",
       "      <td>UPW</td>\n",
       "      <td>MIW</td>\n",
       "      <td>1</td>\n",
       "      <td>0</td>\n",
       "      <td>Healy</td>\n",
       "      <td>...</td>\n",
       "      <td>1</td>\n",
       "      <td>0</td>\n",
       "      <td>0</td>\n",
       "      <td>0</td>\n",
       "      <td>0</td>\n",
       "      <td>0</td>\n",
       "      <td>Not Out</td>\n",
       "      <td>None</td>\n",
       "      <td>None</td>\n",
       "      <td>League</td>\n",
       "    </tr>\n",
       "    <tr>\n",
       "      <th>2</th>\n",
       "      <td>202310</td>\n",
       "      <td>2023</td>\n",
       "      <td>10</td>\n",
       "      <td>2023-03-12</td>\n",
       "      <td>Brabourne Stadium, Mumbai</td>\n",
       "      <td>UPW</td>\n",
       "      <td>MIW</td>\n",
       "      <td>1</td>\n",
       "      <td>0</td>\n",
       "      <td>Devika Vaidya</td>\n",
       "      <td>...</td>\n",
       "      <td>0</td>\n",
       "      <td>0</td>\n",
       "      <td>0</td>\n",
       "      <td>0</td>\n",
       "      <td>0</td>\n",
       "      <td>0</td>\n",
       "      <td>Not Out</td>\n",
       "      <td>None</td>\n",
       "      <td>None</td>\n",
       "      <td>League</td>\n",
       "    </tr>\n",
       "    <tr>\n",
       "      <th>3</th>\n",
       "      <td>202310</td>\n",
       "      <td>2023</td>\n",
       "      <td>10</td>\n",
       "      <td>2023-03-12</td>\n",
       "      <td>Brabourne Stadium, Mumbai</td>\n",
       "      <td>UPW</td>\n",
       "      <td>MIW</td>\n",
       "      <td>1</td>\n",
       "      <td>0</td>\n",
       "      <td>Devika Vaidya</td>\n",
       "      <td>...</td>\n",
       "      <td>1</td>\n",
       "      <td>0</td>\n",
       "      <td>0</td>\n",
       "      <td>0</td>\n",
       "      <td>0</td>\n",
       "      <td>0</td>\n",
       "      <td>Not Out</td>\n",
       "      <td>None</td>\n",
       "      <td>None</td>\n",
       "      <td>League</td>\n",
       "    </tr>\n",
       "    <tr>\n",
       "      <th>4</th>\n",
       "      <td>202310</td>\n",
       "      <td>2023</td>\n",
       "      <td>10</td>\n",
       "      <td>2023-03-12</td>\n",
       "      <td>Brabourne Stadium, Mumbai</td>\n",
       "      <td>UPW</td>\n",
       "      <td>MIW</td>\n",
       "      <td>1</td>\n",
       "      <td>0</td>\n",
       "      <td>Healy</td>\n",
       "      <td>...</td>\n",
       "      <td>0</td>\n",
       "      <td>0</td>\n",
       "      <td>0</td>\n",
       "      <td>0</td>\n",
       "      <td>0</td>\n",
       "      <td>0</td>\n",
       "      <td>Not Out</td>\n",
       "      <td>None</td>\n",
       "      <td>None</td>\n",
       "      <td>League</td>\n",
       "    </tr>\n",
       "    <tr>\n",
       "      <th>5</th>\n",
       "      <td>202310</td>\n",
       "      <td>2023</td>\n",
       "      <td>10</td>\n",
       "      <td>2023-03-12</td>\n",
       "      <td>Brabourne Stadium, Mumbai</td>\n",
       "      <td>UPW</td>\n",
       "      <td>MIW</td>\n",
       "      <td>1</td>\n",
       "      <td>0</td>\n",
       "      <td>Healy</td>\n",
       "      <td>...</td>\n",
       "      <td>0</td>\n",
       "      <td>0</td>\n",
       "      <td>0</td>\n",
       "      <td>0</td>\n",
       "      <td>0</td>\n",
       "      <td>0</td>\n",
       "      <td>Not Out</td>\n",
       "      <td>None</td>\n",
       "      <td>None</td>\n",
       "      <td>League</td>\n",
       "    </tr>\n",
       "    <tr>\n",
       "      <th>6</th>\n",
       "      <td>202310</td>\n",
       "      <td>2023</td>\n",
       "      <td>10</td>\n",
       "      <td>2023-03-12</td>\n",
       "      <td>Brabourne Stadium, Mumbai</td>\n",
       "      <td>UPW</td>\n",
       "      <td>MIW</td>\n",
       "      <td>1</td>\n",
       "      <td>1</td>\n",
       "      <td>Devika Vaidya</td>\n",
       "      <td>...</td>\n",
       "      <td>1</td>\n",
       "      <td>0</td>\n",
       "      <td>0</td>\n",
       "      <td>0</td>\n",
       "      <td>0</td>\n",
       "      <td>0</td>\n",
       "      <td>Not Out</td>\n",
       "      <td>None</td>\n",
       "      <td>None</td>\n",
       "      <td>League</td>\n",
       "    </tr>\n",
       "    <tr>\n",
       "      <th>7</th>\n",
       "      <td>202310</td>\n",
       "      <td>2023</td>\n",
       "      <td>10</td>\n",
       "      <td>2023-03-12</td>\n",
       "      <td>Brabourne Stadium, Mumbai</td>\n",
       "      <td>UPW</td>\n",
       "      <td>MIW</td>\n",
       "      <td>1</td>\n",
       "      <td>1</td>\n",
       "      <td>Healy</td>\n",
       "      <td>...</td>\n",
       "      <td>0</td>\n",
       "      <td>0</td>\n",
       "      <td>0</td>\n",
       "      <td>0</td>\n",
       "      <td>0</td>\n",
       "      <td>0</td>\n",
       "      <td>Not Out</td>\n",
       "      <td>None</td>\n",
       "      <td>None</td>\n",
       "      <td>League</td>\n",
       "    </tr>\n",
       "    <tr>\n",
       "      <th>8</th>\n",
       "      <td>202310</td>\n",
       "      <td>2023</td>\n",
       "      <td>10</td>\n",
       "      <td>2023-03-12</td>\n",
       "      <td>Brabourne Stadium, Mumbai</td>\n",
       "      <td>UPW</td>\n",
       "      <td>MIW</td>\n",
       "      <td>1</td>\n",
       "      <td>1</td>\n",
       "      <td>Healy</td>\n",
       "      <td>...</td>\n",
       "      <td>0</td>\n",
       "      <td>0</td>\n",
       "      <td>0</td>\n",
       "      <td>0</td>\n",
       "      <td>0</td>\n",
       "      <td>0</td>\n",
       "      <td>Not Out</td>\n",
       "      <td>None</td>\n",
       "      <td>None</td>\n",
       "      <td>League</td>\n",
       "    </tr>\n",
       "    <tr>\n",
       "      <th>9</th>\n",
       "      <td>202310</td>\n",
       "      <td>2023</td>\n",
       "      <td>10</td>\n",
       "      <td>2023-03-12</td>\n",
       "      <td>Brabourne Stadium, Mumbai</td>\n",
       "      <td>UPW</td>\n",
       "      <td>MIW</td>\n",
       "      <td>1</td>\n",
       "      <td>1</td>\n",
       "      <td>Healy</td>\n",
       "      <td>...</td>\n",
       "      <td>1</td>\n",
       "      <td>0</td>\n",
       "      <td>0</td>\n",
       "      <td>0</td>\n",
       "      <td>0</td>\n",
       "      <td>0</td>\n",
       "      <td>Not Out</td>\n",
       "      <td>None</td>\n",
       "      <td>None</td>\n",
       "      <td>League</td>\n",
       "    </tr>\n",
       "  </tbody>\n",
       "</table>\n",
       "<p>10 rows × 21 columns</p>\n",
       "</div>"
      ],
      "text/plain": [
       "   match_id  season  match_no       date                      venue  \\\n",
       "0    202310    2023        10 2023-03-12  Brabourne Stadium, Mumbai   \n",
       "1    202310    2023        10 2023-03-12  Brabourne Stadium, Mumbai   \n",
       "2    202310    2023        10 2023-03-12  Brabourne Stadium, Mumbai   \n",
       "3    202310    2023        10 2023-03-12  Brabourne Stadium, Mumbai   \n",
       "4    202310    2023        10 2023-03-12  Brabourne Stadium, Mumbai   \n",
       "5    202310    2023        10 2023-03-12  Brabourne Stadium, Mumbai   \n",
       "6    202310    2023        10 2023-03-12  Brabourne Stadium, Mumbai   \n",
       "7    202310    2023        10 2023-03-12  Brabourne Stadium, Mumbai   \n",
       "8    202310    2023        10 2023-03-12  Brabourne Stadium, Mumbai   \n",
       "9    202310    2023        10 2023-03-12  Brabourne Stadium, Mumbai   \n",
       "\n",
       "  batting_team bowling_team  innings  over        striker  ... runs_of_bat  \\\n",
       "0          UPW          MIW        1     0          Healy  ...           0   \n",
       "1          UPW          MIW        1     0          Healy  ...           1   \n",
       "2          UPW          MIW        1     0  Devika Vaidya  ...           0   \n",
       "3          UPW          MIW        1     0  Devika Vaidya  ...           1   \n",
       "4          UPW          MIW        1     0          Healy  ...           0   \n",
       "5          UPW          MIW        1     0          Healy  ...           0   \n",
       "6          UPW          MIW        1     1  Devika Vaidya  ...           1   \n",
       "7          UPW          MIW        1     1          Healy  ...           0   \n",
       "8          UPW          MIW        1     1          Healy  ...           0   \n",
       "9          UPW          MIW        1     1          Healy  ...           1   \n",
       "\n",
       "   extras  wide  legbyes  byes  noballs  wicket_type player_dismissed fielder  \\\n",
       "0       0     0        0     0        0      Not Out             None    None   \n",
       "1       0     0        0     0        0      Not Out             None    None   \n",
       "2       0     0        0     0        0      Not Out             None    None   \n",
       "3       0     0        0     0        0      Not Out             None    None   \n",
       "4       0     0        0     0        0      Not Out             None    None   \n",
       "5       0     0        0     0        0      Not Out             None    None   \n",
       "6       0     0        0     0        0      Not Out             None    None   \n",
       "7       0     0        0     0        0      Not Out             None    None   \n",
       "8       0     0        0     0        0      Not Out             None    None   \n",
       "9       0     0        0     0        0      Not Out             None    None   \n",
       "\n",
       "    phase  \n",
       "0  League  \n",
       "1  League  \n",
       "2  League  \n",
       "3  League  \n",
       "4  League  \n",
       "5  League  \n",
       "6  League  \n",
       "7  League  \n",
       "8  League  \n",
       "9  League  \n",
       "\n",
       "[10 rows x 21 columns]"
      ]
     },
     "execution_count": 30,
     "metadata": {},
     "output_type": "execute_result"
    }
   ],
   "source": [
    "all_deliveries.head(10)"
   ]
  },
  {
   "cell_type": "code",
   "execution_count": 31,
   "metadata": {},
   "outputs": [
    {
     "name": "stdout",
     "output_type": "stream",
     "text": [
      "Cleaned dataset saved as CSV!\n"
     ]
    }
   ],
   "source": [
    "all_deliveries.to_csv(\"../Cleaned_Dataset/cleaned_wpl_deliveries.csv\", index=False)\n",
    "print(\"Cleaned dataset saved as CSV!\")"
   ]
  },
  {
   "cell_type": "code",
   "execution_count": null,
   "metadata": {},
   "outputs": [],
   "source": []
  }
 ],
 "metadata": {
  "kernelspec": {
   "display_name": "Python 3",
   "language": "python",
   "name": "python3"
  },
  "language_info": {
   "codemirror_mode": {
    "name": "ipython",
    "version": 3
   },
   "file_extension": ".py",
   "mimetype": "text/x-python",
   "name": "python",
   "nbconvert_exporter": "python",
   "pygments_lexer": "ipython3",
   "version": "3.13.2"
  }
 },
 "nbformat": 4,
 "nbformat_minor": 2
}
