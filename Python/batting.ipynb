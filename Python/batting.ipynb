{
 "cells": [
  {
   "cell_type": "markdown",
   "metadata": {},
   "source": [
    "Baisic Batting Analysis:"
   ]
  },
  {
   "cell_type": "markdown",
   "metadata": {
    "vscode": {
     "languageId": "plaintext"
    }
   },
   "source": [
    "Overall Top RunScorer of WPL"
   ]
  },
  {
   "cell_type": "code",
   "execution_count": 25,
   "metadata": {},
   "outputs": [],
   "source": [
    "import pandas as pd\n",
    "import matplotlib.pyplot as plt\n",
    "import seaborn as sns\n",
    "\n",
    "df=pd.read_csv('../Cleaned_Dataset/cleaned_wpl_deliveries.csv')"
   ]
  },
  {
   "cell_type": "code",
   "execution_count": 26,
   "metadata": {},
   "outputs": [
    {
     "name": "stdout",
     "output_type": "stream",
     "text": [
      "<class 'pandas.core.frame.DataFrame'>\n",
      "RangeIndex: 15375 entries, 0 to 15374\n",
      "Data columns (total 21 columns):\n",
      " #   Column            Non-Null Count  Dtype \n",
      "---  ------            --------------  ----- \n",
      " 0   match_id          15375 non-null  int64 \n",
      " 1   season            15375 non-null  int64 \n",
      " 2   match_no          15375 non-null  int64 \n",
      " 3   date              15375 non-null  object\n",
      " 4   venue             15375 non-null  object\n",
      " 5   batting_team      15375 non-null  object\n",
      " 6   bowling_team      15375 non-null  object\n",
      " 7   innings           15375 non-null  int64 \n",
      " 8   over              15375 non-null  int64 \n",
      " 9   striker           15375 non-null  object\n",
      " 10  bowler            15375 non-null  object\n",
      " 11  runs_of_bat       15375 non-null  int64 \n",
      " 12  extras            15375 non-null  int64 \n",
      " 13  wide              15375 non-null  int64 \n",
      " 14  legbyes           15375 non-null  int64 \n",
      " 15  byes              15375 non-null  int64 \n",
      " 16  noballs           15375 non-null  int64 \n",
      " 17  wicket_type       15375 non-null  object\n",
      " 18  player_dismissed  813 non-null    object\n",
      " 19  fielder           580 non-null    object\n",
      " 20  phase             15375 non-null  object\n",
      "dtypes: int64(11), object(10)\n",
      "memory usage: 2.5+ MB\n"
     ]
    }
   ],
   "source": [
    "df.info()"
   ]
  },
  {
   "cell_type": "code",
   "execution_count": 27,
   "metadata": {},
   "outputs": [
    {
     "data": {
      "text/html": [
       "<div>\n",
       "<style scoped>\n",
       "    .dataframe tbody tr th:only-of-type {\n",
       "        vertical-align: middle;\n",
       "    }\n",
       "\n",
       "    .dataframe tbody tr th {\n",
       "        vertical-align: top;\n",
       "    }\n",
       "\n",
       "    .dataframe thead th {\n",
       "        text-align: right;\n",
       "    }\n",
       "</style>\n",
       "<table border=\"1\" class=\"dataframe\">\n",
       "  <thead>\n",
       "    <tr style=\"text-align: right;\">\n",
       "      <th></th>\n",
       "      <th>striker</th>\n",
       "      <th>runs_of_bat</th>\n",
       "    </tr>\n",
       "  </thead>\n",
       "  <tbody>\n",
       "    <tr>\n",
       "      <th>61</th>\n",
       "      <td>Nat Sciver-Brunt</td>\n",
       "      <td>1027</td>\n",
       "    </tr>\n",
       "    <tr>\n",
       "      <th>65</th>\n",
       "      <td>Perry</td>\n",
       "      <td>972</td>\n",
       "    </tr>\n",
       "    <tr>\n",
       "      <th>48</th>\n",
       "      <td>Lanning</td>\n",
       "      <td>952</td>\n",
       "    </tr>\n",
       "    <tr>\n",
       "      <th>86</th>\n",
       "      <td>Shafali Verma</td>\n",
       "      <td>865</td>\n",
       "    </tr>\n",
       "    <tr>\n",
       "      <th>42</th>\n",
       "      <td>Kaur</td>\n",
       "      <td>851</td>\n",
       "    </tr>\n",
       "    <tr>\n",
       "      <th>52</th>\n",
       "      <td>Matthews</td>\n",
       "      <td>758</td>\n",
       "    </tr>\n",
       "    <tr>\n",
       "      <th>50</th>\n",
       "      <td>Mandhana</td>\n",
       "      <td>648</td>\n",
       "    </tr>\n",
       "    <tr>\n",
       "      <th>75</th>\n",
       "      <td>Richa Ghosh</td>\n",
       "      <td>627</td>\n",
       "    </tr>\n",
       "    <tr>\n",
       "      <th>31</th>\n",
       "      <td>Grace Harris</td>\n",
       "      <td>581</td>\n",
       "    </tr>\n",
       "    <tr>\n",
       "      <th>28</th>\n",
       "      <td>Gardner</td>\n",
       "      <td>567</td>\n",
       "    </tr>\n",
       "  </tbody>\n",
       "</table>\n",
       "</div>"
      ],
      "text/plain": [
       "             striker  runs_of_bat\n",
       "61  Nat Sciver-Brunt         1027\n",
       "65             Perry          972\n",
       "48           Lanning          952\n",
       "86     Shafali Verma          865\n",
       "42              Kaur          851\n",
       "52          Matthews          758\n",
       "50          Mandhana          648\n",
       "75       Richa Ghosh          627\n",
       "31      Grace Harris          581\n",
       "28           Gardner          567"
      ]
     },
     "execution_count": 27,
     "metadata": {},
     "output_type": "execute_result"
    }
   ],
   "source": [
    "top_run_scorers = df.groupby(\"striker\")[\"runs_of_bat\"].sum().reset_index()\n",
    "top_run_scorers = top_run_scorers.sort_values(by=\"runs_of_bat\", ascending=False)\n",
    "top_run_scorers.head(10)"
   ]
  },
  {
   "cell_type": "code",
   "execution_count": 28,
   "metadata": {},
   "outputs": [
    {
     "data": {
      "text/html": [
       "<div>\n",
       "<style scoped>\n",
       "    .dataframe tbody tr th:only-of-type {\n",
       "        vertical-align: middle;\n",
       "    }\n",
       "\n",
       "    .dataframe tbody tr th {\n",
       "        vertical-align: top;\n",
       "    }\n",
       "\n",
       "    .dataframe thead th {\n",
       "        text-align: right;\n",
       "    }\n",
       "</style>\n",
       "<table border=\"1\" class=\"dataframe\">\n",
       "  <thead>\n",
       "    <tr style=\"text-align: right;\">\n",
       "      <th></th>\n",
       "      <th>season</th>\n",
       "      <th>striker</th>\n",
       "      <th>runs_of_bat</th>\n",
       "    </tr>\n",
       "  </thead>\n",
       "  <tbody>\n",
       "    <tr>\n",
       "      <th>32</th>\n",
       "      <td>2023</td>\n",
       "      <td>Lanning</td>\n",
       "      <td>345</td>\n",
       "    </tr>\n",
       "    <tr>\n",
       "      <th>41</th>\n",
       "      <td>2023</td>\n",
       "      <td>Nat Sciver-Brunt</td>\n",
       "      <td>332</td>\n",
       "    </tr>\n",
       "    <tr>\n",
       "      <th>36</th>\n",
       "      <td>2023</td>\n",
       "      <td>McGrath</td>\n",
       "      <td>302</td>\n",
       "    </tr>\n",
       "    <tr>\n",
       "      <th>27</th>\n",
       "      <td>2023</td>\n",
       "      <td>Kaur</td>\n",
       "      <td>281</td>\n",
       "    </tr>\n",
       "    <tr>\n",
       "      <th>35</th>\n",
       "      <td>2023</td>\n",
       "      <td>Matthews</td>\n",
       "      <td>271</td>\n",
       "    </tr>\n",
       "    <tr>\n",
       "      <th>10</th>\n",
       "      <td>2023</td>\n",
       "      <td>Devine</td>\n",
       "      <td>266</td>\n",
       "    </tr>\n",
       "    <tr>\n",
       "      <th>20</th>\n",
       "      <td>2023</td>\n",
       "      <td>Healy</td>\n",
       "      <td>253</td>\n",
       "    </tr>\n",
       "    <tr>\n",
       "      <th>43</th>\n",
       "      <td>2023</td>\n",
       "      <td>Perry</td>\n",
       "      <td>253</td>\n",
       "    </tr>\n",
       "    <tr>\n",
       "      <th>54</th>\n",
       "      <td>2023</td>\n",
       "      <td>Shafali Verma</td>\n",
       "      <td>252</td>\n",
       "    </tr>\n",
       "    <tr>\n",
       "      <th>18</th>\n",
       "      <td>2023</td>\n",
       "      <td>Grace Harris</td>\n",
       "      <td>230</td>\n",
       "    </tr>\n",
       "    <tr>\n",
       "      <th>107</th>\n",
       "      <td>2024</td>\n",
       "      <td>Perry</td>\n",
       "      <td>347</td>\n",
       "    </tr>\n",
       "    <tr>\n",
       "      <th>96</th>\n",
       "      <td>2024</td>\n",
       "      <td>Lanning</td>\n",
       "      <td>331</td>\n",
       "    </tr>\n",
       "    <tr>\n",
       "      <th>120</th>\n",
       "      <td>2024</td>\n",
       "      <td>Shafali Verma</td>\n",
       "      <td>309</td>\n",
       "    </tr>\n",
       "    <tr>\n",
       "      <th>98</th>\n",
       "      <td>2024</td>\n",
       "      <td>Mandhana</td>\n",
       "      <td>300</td>\n",
       "    </tr>\n",
       "    <tr>\n",
       "      <th>79</th>\n",
       "      <td>2024</td>\n",
       "      <td>Deepti Sharma</td>\n",
       "      <td>295</td>\n",
       "    </tr>\n",
       "    <tr>\n",
       "      <th>105</th>\n",
       "      <td>2024</td>\n",
       "      <td>Mooney</td>\n",
       "      <td>285</td>\n",
       "    </tr>\n",
       "    <tr>\n",
       "      <th>94</th>\n",
       "      <td>2024</td>\n",
       "      <td>Kaur</td>\n",
       "      <td>268</td>\n",
       "    </tr>\n",
       "    <tr>\n",
       "      <th>113</th>\n",
       "      <td>2024</td>\n",
       "      <td>Richa Ghosh</td>\n",
       "      <td>257</td>\n",
       "    </tr>\n",
       "    <tr>\n",
       "      <th>114</th>\n",
       "      <td>2024</td>\n",
       "      <td>Rodrigues</td>\n",
       "      <td>235</td>\n",
       "    </tr>\n",
       "    <tr>\n",
       "      <th>77</th>\n",
       "      <td>2024</td>\n",
       "      <td>Capsey</td>\n",
       "      <td>230</td>\n",
       "    </tr>\n",
       "    <tr>\n",
       "      <th>178</th>\n",
       "      <td>2025</td>\n",
       "      <td>Nat Sciver-Brunt</td>\n",
       "      <td>523</td>\n",
       "    </tr>\n",
       "    <tr>\n",
       "      <th>181</th>\n",
       "      <td>2025</td>\n",
       "      <td>Perry</td>\n",
       "      <td>372</td>\n",
       "    </tr>\n",
       "    <tr>\n",
       "      <th>171</th>\n",
       "      <td>2025</td>\n",
       "      <td>Matthews</td>\n",
       "      <td>307</td>\n",
       "    </tr>\n",
       "    <tr>\n",
       "      <th>195</th>\n",
       "      <td>2025</td>\n",
       "      <td>Shafali Verma</td>\n",
       "      <td>304</td>\n",
       "    </tr>\n",
       "    <tr>\n",
       "      <th>165</th>\n",
       "      <td>2025</td>\n",
       "      <td>Kaur</td>\n",
       "      <td>302</td>\n",
       "    </tr>\n",
       "    <tr>\n",
       "      <th>169</th>\n",
       "      <td>2025</td>\n",
       "      <td>Lanning</td>\n",
       "      <td>276</td>\n",
       "    </tr>\n",
       "    <tr>\n",
       "      <th>154</th>\n",
       "      <td>2025</td>\n",
       "      <td>Gardner</td>\n",
       "      <td>243</td>\n",
       "    </tr>\n",
       "    <tr>\n",
       "      <th>176</th>\n",
       "      <td>2025</td>\n",
       "      <td>Mooney</td>\n",
       "      <td>237</td>\n",
       "    </tr>\n",
       "    <tr>\n",
       "      <th>157</th>\n",
       "      <td>2025</td>\n",
       "      <td>Harleen Deol</td>\n",
       "      <td>232</td>\n",
       "    </tr>\n",
       "    <tr>\n",
       "      <th>187</th>\n",
       "      <td>2025</td>\n",
       "      <td>Richa Ghosh</td>\n",
       "      <td>232</td>\n",
       "    </tr>\n",
       "  </tbody>\n",
       "</table>\n",
       "</div>"
      ],
      "text/plain": [
       "     season           striker  runs_of_bat\n",
       "32     2023           Lanning          345\n",
       "41     2023  Nat Sciver-Brunt          332\n",
       "36     2023           McGrath          302\n",
       "27     2023              Kaur          281\n",
       "35     2023          Matthews          271\n",
       "10     2023            Devine          266\n",
       "20     2023             Healy          253\n",
       "43     2023             Perry          253\n",
       "54     2023     Shafali Verma          252\n",
       "18     2023      Grace Harris          230\n",
       "107    2024             Perry          347\n",
       "96     2024           Lanning          331\n",
       "120    2024     Shafali Verma          309\n",
       "98     2024          Mandhana          300\n",
       "79     2024     Deepti Sharma          295\n",
       "105    2024            Mooney          285\n",
       "94     2024              Kaur          268\n",
       "113    2024       Richa Ghosh          257\n",
       "114    2024         Rodrigues          235\n",
       "77     2024            Capsey          230\n",
       "178    2025  Nat Sciver-Brunt          523\n",
       "181    2025             Perry          372\n",
       "171    2025          Matthews          307\n",
       "195    2025     Shafali Verma          304\n",
       "165    2025              Kaur          302\n",
       "169    2025           Lanning          276\n",
       "154    2025           Gardner          243\n",
       "176    2025            Mooney          237\n",
       "157    2025      Harleen Deol          232\n",
       "187    2025       Richa Ghosh          232"
      ]
     },
     "execution_count": 28,
     "metadata": {},
     "output_type": "execute_result"
    }
   ],
   "source": [
    "top_scorers_per_season = df.groupby([\"season\", \"striker\"])[\"runs_of_bat\"].sum().reset_index()\n",
    "top_scorers_per_season = top_scorers_per_season.sort_values([\"season\", \"runs_of_bat\"], ascending=[True, False])\n",
    "top_scorers_per_season.groupby(\"season\").head(10)\n"
   ]
  },
  {
   "cell_type": "code",
   "execution_count": 29,
   "metadata": {},
   "outputs": [
    {
     "name": "stderr",
     "output_type": "stream",
     "text": [
      "C:\\Users\\SACHIN\\AppData\\Local\\Temp\\ipykernel_14700\\3945776136.py:3: FutureWarning: \n",
      "\n",
      "Passing `palette` without assigning `hue` is deprecated and will be removed in v0.14.0. Assign the `y` variable to `hue` and set `legend=False` for the same effect.\n",
      "\n",
      "  sns.barplot(x=top_run_scorers.values, y=top_run_scorers.index, palette=\"Blues_r\")\n"
     ]
    },
    {
     "data": {
      "image/png": "[encoded data removed]",
      "text/plain": [
       "<Figure size 1200x600 with 1 Axes>"
      ]
     },
     "metadata": {},
     "output_type": "display_data"
    }
   ],
   "source": [
    "plt.figure(figsize=(12,6))\n",
    "top_run_scorers = df.groupby(\"striker\")[\"runs_of_bat\"].sum().sort_values(ascending=False).head(10)\n",
    "sns.barplot(x=top_run_scorers.values, y=top_run_scorers.index, palette=\"Blues_r\")\n",
    "plt.xlabel(\"Total Runs\")\n",
    "plt.ylabel(\"Batsmen\")\n",
    "plt.title(\"Top 10 Run Scorers in WPL\")\n",
    "plt.show()\n"
   ]
  },
  {
   "cell_type": "markdown",
   "metadata": {},
   "source": [
    "Best Strike Rate:"
   ]
  },
  {
   "cell_type": "code",
   "execution_count": 30,
   "metadata": {},
   "outputs": [
    {
     "data": {
      "text/html": [
       "<div>\n",
       "<style scoped>\n",
       "    .dataframe tbody tr th:only-of-type {\n",
       "        vertical-align: middle;\n",
       "    }\n",
       "\n",
       "    .dataframe tbody tr th {\n",
       "        vertical-align: top;\n",
       "    }\n",
       "\n",
       "    .dataframe thead th {\n",
       "        text-align: right;\n",
       "    }\n",
       "</style>\n",
       "<table border=\"1\" class=\"dataframe\">\n",
       "  <thead>\n",
       "    <tr style=\"text-align: right;\">\n",
       "      <th></th>\n",
       "      <th>striker</th>\n",
       "      <th>total_runs</th>\n",
       "      <th>total_balls</th>\n",
       "      <th>wides</th>\n",
       "      <th>balls_faced</th>\n",
       "      <th>strike_rate</th>\n",
       "    </tr>\n",
       "  </thead>\n",
       "  <tbody>\n",
       "    <tr>\n",
       "      <th>86</th>\n",
       "      <td>Shafali Verma</td>\n",
       "      <td>865</td>\n",
       "      <td>559</td>\n",
       "      <td>27</td>\n",
       "      <td>532</td>\n",
       "      <td>162.593985</td>\n",
       "    </tr>\n",
       "    <tr>\n",
       "      <th>19</th>\n",
       "      <td>Devine</td>\n",
       "      <td>402</td>\n",
       "      <td>266</td>\n",
       "      <td>4</td>\n",
       "      <td>262</td>\n",
       "      <td>153.435115</td>\n",
       "    </tr>\n",
       "    <tr>\n",
       "      <th>75</th>\n",
       "      <td>Richa Ghosh</td>\n",
       "      <td>627</td>\n",
       "      <td>425</td>\n",
       "      <td>8</td>\n",
       "      <td>417</td>\n",
       "      <td>150.359712</td>\n",
       "    </tr>\n",
       "    <tr>\n",
       "      <th>42</th>\n",
       "      <td>Kaur</td>\n",
       "      <td>851</td>\n",
       "      <td>614</td>\n",
       "      <td>21</td>\n",
       "      <td>593</td>\n",
       "      <td>143.507589</td>\n",
       "    </tr>\n",
       "    <tr>\n",
       "      <th>61</th>\n",
       "      <td>Nat Sciver-Brunt</td>\n",
       "      <td>1027</td>\n",
       "      <td>731</td>\n",
       "      <td>7</td>\n",
       "      <td>724</td>\n",
       "      <td>141.850829</td>\n",
       "    </tr>\n",
       "    <tr>\n",
       "      <th>28</th>\n",
       "      <td>Gardner</td>\n",
       "      <td>567</td>\n",
       "      <td>409</td>\n",
       "      <td>9</td>\n",
       "      <td>400</td>\n",
       "      <td>141.750000</td>\n",
       "    </tr>\n",
       "    <tr>\n",
       "      <th>44</th>\n",
       "      <td>Kiran Navgire</td>\n",
       "      <td>419</td>\n",
       "      <td>315</td>\n",
       "      <td>16</td>\n",
       "      <td>299</td>\n",
       "      <td>140.133779</td>\n",
       "    </tr>\n",
       "    <tr>\n",
       "      <th>31</th>\n",
       "      <td>Grace Harris</td>\n",
       "      <td>581</td>\n",
       "      <td>430</td>\n",
       "      <td>15</td>\n",
       "      <td>415</td>\n",
       "      <td>140.000000</td>\n",
       "    </tr>\n",
       "    <tr>\n",
       "      <th>76</th>\n",
       "      <td>Rodrigues</td>\n",
       "      <td>506</td>\n",
       "      <td>375</td>\n",
       "      <td>12</td>\n",
       "      <td>363</td>\n",
       "      <td>139.393939</td>\n",
       "    </tr>\n",
       "    <tr>\n",
       "      <th>38</th>\n",
       "      <td>Jonassen</td>\n",
       "      <td>295</td>\n",
       "      <td>217</td>\n",
       "      <td>4</td>\n",
       "      <td>213</td>\n",
       "      <td>138.497653</td>\n",
       "    </tr>\n",
       "  </tbody>\n",
       "</table>\n",
       "</div>"
      ],
      "text/plain": [
       "             striker  total_runs  total_balls  wides  balls_faced  strike_rate\n",
       "86     Shafali Verma         865          559     27          532   162.593985\n",
       "19            Devine         402          266      4          262   153.435115\n",
       "75       Richa Ghosh         627          425      8          417   150.359712\n",
       "42              Kaur         851          614     21          593   143.507589\n",
       "61  Nat Sciver-Brunt        1027          731      7          724   141.850829\n",
       "28           Gardner         567          409      9          400   141.750000\n",
       "44     Kiran Navgire         419          315     16          299   140.133779\n",
       "31      Grace Harris         581          430     15          415   140.000000\n",
       "76         Rodrigues         506          375     12          363   139.393939\n",
       "38          Jonassen         295          217      4          213   138.497653"
      ]
     },
     "execution_count": 30,
     "metadata": {},
     "output_type": "execute_result"
    }
   ],
   "source": [
    "batting_stats = df.groupby(\"striker\").agg(\n",
    "    total_runs=(\"runs_of_bat\", \"sum\"),\n",
    "    total_balls=(\"match_id\", \"count\"),  \n",
    "    wides=(\"wide\", \"sum\")\n",
    ").reset_index()\n",
    "\n",
    "batting_stats[\"balls_faced\"] = batting_stats[\"total_balls\"] - batting_stats[\"wides\"]\n",
    "batting_stats[\"strike_rate\"] = (batting_stats[\"total_runs\"] / batting_stats[\"balls_faced\"]) * 100\n",
    "batting_stats = batting_stats[batting_stats[\"balls_faced\"] >= 100]\n",
    "best_strike_rates = batting_stats.sort_values(by=\"strike_rate\", ascending=False)\n",
    "best_strike_rates.head(10)\n"
   ]
  },
  {
   "cell_type": "code",
   "execution_count": null,
   "metadata": {},
   "outputs": [
    {
     "name": "stderr",
     "output_type": "stream",
     "text": [
      "C:\\Users\\SACHIN\\AppData\\Local\\Temp\\ipykernel_14700\\1017286755.py:7: FutureWarning: \n",
      "\n",
      "Passing `palette` without assigning `hue` is deprecated and will be removed in v0.14.0. Assign the `y` variable to `hue` and set `legend=False` for the same effect.\n",
      "\n",
      "  sns.barplot(x=top_strike_rates[\"strike_rate\"], y=top_strike_rates[\"striker\"], palette=\"Greens_r\")\n"
     ]
    },
    {
     "data": {
      "image/png": "[encoded data removed]",
      "text/plain": [
       "<Figure size 1200x600 with 1 Axes>"
      ]
     },
     "metadata": {},
     "output_type": "display_data"
    }
   ],
   "source": [
    "plt.figure(figsize=(12,6))\n",
    "top_strike_rates = best_strike_rates.head(10)\n",
    "sns.barplot(x=top_strike_rates[\"strike_rate\"], y=top_strike_rates[\"striker\"], palette=\"Greens_r\")\n",
    "\n",
    "plt.xlabel(\"Strike Rate\")\n",
    "plt.ylabel(\"Batsmen\")\n",
    "plt.title(\"Top 10 Batters by Strike Rate (Min 100 Balls Faced)\")\n",
    "plt.xlim(0, max(top_strike_rates[\"strike_rate\"]) + 10) \n",
    "\n",
    "plt.show()\n"
   ]
  },
  {
   "cell_type": "markdown",
   "metadata": {},
   "source": [
    "Most 4s and Most 6s"
   ]
  },
  {
   "cell_type": "code",
   "execution_count": 31,
   "metadata": {},
   "outputs": [
    {
     "name": "stdout",
     "output_type": "stream",
     "text": [
      "🏏 Top 10 Six Hitters:\n",
      " striker\n",
      "Shafali Verma    49\n",
      "Richa Ghosh      30\n",
      "Gardner          26\n",
      "Perry            25\n",
      "Kiran Navgire    24\n",
      "Matthews         23\n",
      "Kaur             22\n",
      "Mandhana         20\n",
      "Grace Harris     20\n",
      "Devine           20\n",
      "Name: count, dtype: int64\n",
      "\n",
      "🏏 Top 10 Four Hitters:\n",
      " striker\n",
      "Nat Sciver-Brunt    157\n",
      "Lanning             142\n",
      "Kaur                112\n",
      "Perry               109\n",
      "Matthews            104\n",
      "Shafali Verma        93\n",
      "Mandhana             88\n",
      "Yastika              78\n",
      "Mooney               75\n",
      "Grace Harris         74\n",
      "Name: count, dtype: int64\n"
     ]
    }
   ],
   "source": [
    "top_six_hitters = df[df[\"runs_of_bat\"] == 6][\"striker\"].value_counts().head(10)\n",
    "top_four_hitters = df[df[\"runs_of_bat\"] == 4][\"striker\"].value_counts().head(10)\n",
    "\n",
    "print(\"🏏 Top 10 Six Hitters:\\n\", top_six_hitters)\n",
    "print(\"\\n🏏 Top 10 Four Hitters:\\n\", top_four_hitters)"
   ]
  },
  {
   "cell_type": "code",
   "execution_count": 38,
   "metadata": {},
   "outputs": [
    {
     "name": "stderr",
     "output_type": "stream",
     "text": [
      "C:\\Users\\SACHIN\\AppData\\Local\\Temp\\ipykernel_14700\\1251454928.py:5: FutureWarning: \n",
      "\n",
      "Passing `palette` without assigning `hue` is deprecated and will be removed in v0.14.0. Assign the `y` variable to `hue` and set `legend=False` for the same effect.\n",
      "\n",
      "  sns.barplot(x=sixes.values, y=sixes.index, ax=ax[0], palette=\"Oranges_r\")\n",
      "C:\\Users\\SACHIN\\AppData\\Local\\Temp\\ipykernel_14700\\1251454928.py:9: FutureWarning: \n",
      "\n",
      "Passing `palette` without assigning `hue` is deprecated and will be removed in v0.14.0. Assign the `y` variable to `hue` and set `legend=False` for the same effect.\n",
      "\n",
      "  sns.barplot(x=fours.values, y=fours.index, ax=ax[1], palette=\"Greens_r\")\n"
     ]
    },
    {
     "data": {
      "image/png": "[encoded data removed]",
      "text/plain": [
       "<Figure size 1400x600 with 2 Axes>"
      ]
     },
     "metadata": {},
     "output_type": "display_data"
    }
   ],
   "source": [
    "sixes = df[df[\"runs_of_bat\"] == 6].groupby(\"striker\")[\"runs_of_bat\"].count().sort_values(ascending=False).head(10)\n",
    "fours = df[df[\"runs_of_bat\"] == 4].groupby(\"striker\")[\"runs_of_bat\"].count().sort_values(ascending=False).head(10)\n",
    "\n",
    "fig, ax = plt.subplots(1, 2, figsize=(14,6))\n",
    "sns.barplot(x=sixes.values, y=sixes.index, ax=ax[0], palette=\"Oranges_r\")\n",
    "ax[0].set_title(\"Top 10 Players with Most Sixes\")\n",
    "ax[0].set_xlabel(\"No. of Sixes\")\n",
    "\n",
    "sns.barplot(x=fours.values, y=fours.index, ax=ax[1], palette=\"Greens_r\")\n",
    "ax[1].set_title(\"Top 10 Players with Most Fours\")\n",
    "ax[1].set_xlabel(\"No. of Fours\")\n",
    "\n",
    "plt.tight_layout()\n",
    "plt.show()\n"
   ]
  },
  {
   "cell_type": "markdown",
   "metadata": {},
   "source": [
    "Powerplay vs Death Over Performances:"
   ]
  },
  {
   "cell_type": "code",
   "execution_count": 32,
   "metadata": {},
   "outputs": [
    {
     "name": "stdout",
     "output_type": "stream",
     "text": [
      "              Powerplay Runs  Powerplay Strike Rate  Death Overs Runs  \\\n",
      "batting_team                                                            \n",
      "DCW                     1318             130.108588               675   \n",
      "GG                       986             106.135630               771   \n",
      "MIW                     1199             111.431227               807   \n",
      "RCBW                    1132             118.534031               810   \n",
      "UPW                     1045             111.764706               736   \n",
      "\n",
      "              Death Overs Strike Rate  \n",
      "batting_team                           \n",
      "DCW                        155.172414  \n",
      "GG                         140.437158  \n",
      "MIW                        157.617188  \n",
      "RCBW                       159.763314  \n",
      "UPW                        142.912621  \n"
     ]
    }
   ],
   "source": [
    "powerplay = df[(df[\"over\"]>=1) & (df[\"over\"]<=6)]\n",
    "death_overs = df[(df[\"over\"] >= 16) & (df[\"over\"] <= 20)]\n",
    "\n",
    "powerplay_runs = powerplay.groupby(\"batting_team\")[\"runs_of_bat\"].sum()\n",
    "death_overs_runs = death_overs.groupby(\"batting_team\")[\"runs_of_bat\"].sum()\n",
    "\n",
    "powerplay_balls = powerplay.groupby(\"batting_team\").size()\n",
    "death_overs_balls = death_overs.groupby(\"batting_team\").size()\n",
    "\n",
    "powerplay_strike_rate = (powerplay_runs / powerplay_balls) * 100\n",
    "death_overs_strike_rate = (death_overs_runs / death_overs_balls) * 100\n",
    "\n",
    "batting_phase_comparison = pd.DataFrame({\n",
    "    \"Powerplay Runs\": powerplay_runs,\n",
    "    \"Powerplay Strike Rate\": powerplay_strike_rate,\n",
    "    \"Death Overs Runs\": death_overs_runs,\n",
    "    \"Death Overs Strike Rate\": death_overs_strike_rate\n",
    "})\n",
    "print(batting_phase_comparison)\n"
   ]
  },
  {
   "cell_type": "code",
   "execution_count": null,
   "metadata": {},
   "outputs": [
    {
     "data": {
      "image/png": "[encoded data removed]",
      "text/plain": [
       "<Figure size 1400x600 with 1 Axes>"
      ]
     },
     "metadata": {},
     "output_type": "display_data"
    }
   ],
   "source": [
    "plt.figure(figsize=(14,6))\n",
    "\n",
    "\n",
    "bar_width = 0.35  \n",
    "teams = batting_phase_comparison.index  \n",
    "\n",
    "plt.bar(teams, batting_phase_comparison[\"Powerplay Strike Rate\"], width=bar_width, label=\"Powerplay Strike Rate\", color=\"blue\", alpha=0.7)\n",
    "plt.bar(teams, batting_phase_comparison[\"Death Overs Strike Rate\"], width=bar_width, label=\"Death Overs Strike Rate\", color=\"red\", alpha=0.7, bottom=batting_phase_comparison[\"Powerplay Strike Rate\"])\n",
    "\n",
    "plt.xlabel(\"Teams\")\n",
    "plt.ylabel(\"Strike Rate\")\n",
    "plt.title(\"Powerplay vs Death Overs Batting Performance\")\n",
    "plt.xticks(rotation=45, ha=\"right\") \n",
    "plt.legend()\n",
    "\n",
    "plt.show()\n"
   ]
  },
  {
   "cell_type": "code",
   "execution_count": null,
   "metadata": {},
   "outputs": [
    {
     "name": "stdout",
     "output_type": "stream",
     "text": [
      "['UPW' 'MIW' 'RCBW' 'DCW' 'GG']\n",
      "['MIW' 'UPW' 'DCW' 'RCBW' 'GG']\n"
     ]
    }
   ],
   "source": [
    "team_name_mapping = {\n",
    "    \"GGTW\": \"GG\", \n",
    "\n",
    "}\n",
    "\n",
    "df[\"batting_team\"] = df[\"batting_team\"].replace(team_name_mapping)\n",
    "df[\"bowling_team\"] = df[\"bowling_team\"].replace(team_name_mapping)\n",
    "\n",
    "print(df[\"batting_team\"].unique())\n",
    "print(df[\"bowling_team\"].unique())\n"
   ]
  },
  {
   "cell_type": "code",
   "execution_count": 34,
   "metadata": {},
   "outputs": [],
   "source": [
    "df.to_csv(\"../Cleaned_Dataset/cleaned_wpl_deliveries.csv\", index=False)\n"
   ]
  },
  {
   "cell_type": "code",
   "execution_count": 35,
   "metadata": {},
   "outputs": [
    {
     "name": "stdout",
     "output_type": "stream",
     "text": [
      "              Powerplay Runs  Powerplay Strike Rate  Death Overs Runs  \\\n",
      "batting_team                                                            \n",
      "DCW                     1318             130.108588               675   \n",
      "GG                       986             106.135630               771   \n",
      "MIW                     1199             111.431227               807   \n",
      "RCBW                    1132             118.534031               810   \n",
      "UPW                     1045             111.764706               736   \n",
      "\n",
      "              Death Overs Strike Rate  \n",
      "batting_team                           \n",
      "DCW                        155.172414  \n",
      "GG                         140.437158  \n",
      "MIW                        157.617188  \n",
      "RCBW                       159.763314  \n",
      "UPW                        142.912621  \n"
     ]
    }
   ],
   "source": [
    "powerplay = df[(df[\"over\"]>=1) & (df[\"over\"]<=6)]\n",
    "death_overs = df[(df[\"over\"] >= 16) & (df[\"over\"] <= 20)]\n",
    "\n",
    "powerplay_runs = powerplay.groupby(\"batting_team\")[\"runs_of_bat\"].sum()\n",
    "death_overs_runs = death_overs.groupby(\"batting_team\")[\"runs_of_bat\"].sum()\n",
    "\n",
    "powerplay_balls = powerplay.groupby(\"batting_team\").size()\n",
    "death_overs_balls = death_overs.groupby(\"batting_team\").size()\n",
    "\n",
    "powerplay_strike_rate = (powerplay_runs / powerplay_balls) * 100\n",
    "death_overs_strike_rate = (death_overs_runs / death_overs_balls) * 100\n",
    "\n",
    "batting_phase_comparison = pd.DataFrame({\n",
    "    \"Powerplay Runs\": powerplay_runs,\n",
    "    \"Powerplay Strike Rate\": powerplay_strike_rate,\n",
    "    \"Death Overs Runs\": death_overs_runs,\n",
    "    \"Death Overs Strike Rate\": death_overs_strike_rate\n",
    "})\n",
    "print(batting_phase_comparison)\n"
   ]
  },
  {
   "cell_type": "code",
   "execution_count": 36,
   "metadata": {},
   "outputs": [],
   "source": [
    "import matplotlib.pyplot as plt\n",
    "import seaborn as sns"
   ]
  }
 ],
 "metadata": {
  "kernelspec": {
   "display_name": "Python 3",
   "language": "python",
   "name": "python3"
  },
  "language_info": {
   "codemirror_mode": {
    "name": "ipython",
    "version": 3
   },
   "file_extension": ".py",
   "mimetype": "text/x-python",
   "name": "python",
   "nbconvert_exporter": "python",
   "pygments_lexer": "ipython3",
   "version": "3.13.2"
  }
 },
 "nbformat": 4,
 "nbformat_minor": 2
}
